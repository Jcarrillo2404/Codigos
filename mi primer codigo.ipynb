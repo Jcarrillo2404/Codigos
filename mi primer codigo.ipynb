{
 "cells": [
  {
   "cell_type": "markdown",
   "id": "7e9f700d",
   "metadata": {},
   "source": [
    "# Hello world\n",
    "\n"
   ]
  },
  {
   "cell_type": "code",
   "execution_count": 10,
   "id": "4fd80790",
   "metadata": {},
   "outputs": [
    {
     "name": "stdout",
     "output_type": "stream",
     "text": [
      "hello mundo\n"
     ]
    }
   ],
   "source": [
    "print (\"hello mundo\")"
   ]
  },
  {
   "cell_type": "code",
   "execution_count": 11,
   "id": "f7861713",
   "metadata": {},
   "outputs": [
    {
     "name": "stdout",
     "output_type": "stream",
     "text": [
      "Hola mundo\n"
     ]
    }
   ],
   "source": [
    "print (\"Hola mundo\")"
   ]
  },
  {
   "cell_type": "code",
   "execution_count": 13,
   "id": "47fe9c91",
   "metadata": {},
   "outputs": [
    {
     "data": {
      "text/plain": [
       "float"
      ]
     },
     "execution_count": 13,
     "metadata": {},
     "output_type": "execute_result"
    }
   ],
   "source": [
    "type (1.3)"
   ]
  },
  {
   "cell_type": "code",
   "execution_count": 15,
   "id": "3cdd9194",
   "metadata": {},
   "outputs": [
    {
     "data": {
      "text/plain": [
       "float"
      ]
     },
     "execution_count": 15,
     "metadata": {},
     "output_type": "execute_result"
    }
   ],
   "source": [
    "type (1.5)"
   ]
  },
  {
   "cell_type": "code",
   "execution_count": 17,
   "id": "3a2ed55c",
   "metadata": {},
   "outputs": [
    {
     "data": {
      "text/plain": [
       "str"
      ]
     },
     "execution_count": 17,
     "metadata": {},
     "output_type": "execute_result"
    }
   ],
   "source": [
    "type(\"hola\")"
   ]
  },
  {
   "cell_type": "code",
   "execution_count": 20,
   "id": "0ada0fbe",
   "metadata": {},
   "outputs": [
    {
     "data": {
      "text/plain": [
       "'hola'"
      ]
     },
     "execution_count": 20,
     "metadata": {},
     "output_type": "execute_result"
    }
   ],
   "source": [
    "\"hola\""
   ]
  },
  {
   "cell_type": "code",
   "execution_count": 21,
   "id": "a0560318",
   "metadata": {},
   "outputs": [
    {
     "data": {
      "text/plain": [
       "'hala'"
      ]
     },
     "execution_count": 21,
     "metadata": {},
     "output_type": "execute_result"
    }
   ],
   "source": [
    "\"hola\".replace(\"o\", \"a\")"
   ]
  },
  {
   "cell_type": "code",
   "execution_count": 24,
   "id": "e827e6fb",
   "metadata": {},
   "outputs": [],
   "source": [
    "a = \"hola me llamo Jaime\""
   ]
  },
  {
   "cell_type": "code",
   "execution_count": 25,
   "id": "6ea12318",
   "metadata": {},
   "outputs": [
    {
     "data": {
      "text/plain": [
       "'hola me llamo Jaime'"
      ]
     },
     "execution_count": 25,
     "metadata": {},
     "output_type": "execute_result"
    }
   ],
   "source": [
    "a\n"
   ]
  },
  {
   "cell_type": "code",
   "execution_count": 35,
   "id": "e6aef360",
   "metadata": {},
   "outputs": [],
   "source": [
    "b = \"y tengo 27 años\""
   ]
  },
  {
   "cell_type": "code",
   "execution_count": 36,
   "id": "6f918ac0",
   "metadata": {},
   "outputs": [
    {
     "data": {
      "text/plain": [
       "'y tengo 27 años'"
      ]
     },
     "execution_count": 36,
     "metadata": {},
     "output_type": "execute_result"
    }
   ],
   "source": [
    "b\n"
   ]
  },
  {
   "cell_type": "code",
   "execution_count": 28,
   "id": "d9226018",
   "metadata": {},
   "outputs": [
    {
     "data": {
      "text/plain": [
       "'[a] jaja'"
      ]
     },
     "execution_count": 28,
     "metadata": {},
     "output_type": "execute_result"
    }
   ],
   "source": [
    "f\"[a] jaja\""
   ]
  },
  {
   "cell_type": "code",
   "execution_count": 29,
   "id": "5a5b9b94",
   "metadata": {},
   "outputs": [
    {
     "data": {
      "text/plain": [
       "'hola me llamo Jaime jaja'"
      ]
     },
     "execution_count": 29,
     "metadata": {},
     "output_type": "execute_result"
    }
   ],
   "source": [
    "f\"{a} jaja\""
   ]
  },
  {
   "cell_type": "code",
   "execution_count": 37,
   "id": "dadadbc7",
   "metadata": {},
   "outputs": [
    {
     "data": {
      "text/plain": [
       "'hola me llamo Jaime y tengo 27 años'"
      ]
     },
     "execution_count": 37,
     "metadata": {},
     "output_type": "execute_result"
    }
   ],
   "source": [
    "f\"{a} {b}\""
   ]
  },
  {
   "cell_type": "code",
   "execution_count": 2,
   "id": "8b319ec8",
   "metadata": {},
   "outputs": [],
   "source": [
    "a = \"Estoy aprendiendo python\""
   ]
  },
  {
   "cell_type": "code",
   "execution_count": 4,
   "id": "8fc5e489",
   "metadata": {},
   "outputs": [],
   "source": [
    "b = \"y es divertido\""
   ]
  },
  {
   "cell_type": "code",
   "execution_count": 5,
   "id": "8794b344",
   "metadata": {},
   "outputs": [
    {
     "data": {
      "text/plain": [
       "'Estoy aprendiendo pythony es divertido'"
      ]
     },
     "execution_count": 5,
     "metadata": {},
     "output_type": "execute_result"
    }
   ],
   "source": [
    "a+b"
   ]
  },
  {
   "cell_type": "code",
   "execution_count": 10,
   "id": "4c62d014",
   "metadata": {},
   "outputs": [
    {
     "data": {
      "text/plain": [
       "'Estoy aprendiendo python y es divertido'"
      ]
     },
     "execution_count": 10,
     "metadata": {},
     "output_type": "execute_result"
    }
   ],
   "source": [
    "a + \" \" + b"
   ]
  },
  {
   "cell_type": "code",
   "execution_count": 26,
   "id": "b78287ec",
   "metadata": {},
   "outputs": [],
   "source": [
    "# Listas"
   ]
  },
  {
   "cell_type": "code",
   "execution_count": 6,
   "id": "c894da14",
   "metadata": {},
   "outputs": [],
   "source": [
    "countries = [\"Colombia\", \"España\", \"Venezuela\"]"
   ]
  },
  {
   "cell_type": "code",
   "execution_count": 7,
   "id": "524ebc63",
   "metadata": {},
   "outputs": [
    {
     "data": {
      "text/plain": [
       "['Colombia', 'España', 'Venezuela']"
      ]
     },
     "execution_count": 7,
     "metadata": {},
     "output_type": "execute_result"
    }
   ],
   "source": [
    "countries"
   ]
  },
  {
   "cell_type": "code",
   "execution_count": 8,
   "id": "1b15565d",
   "metadata": {},
   "outputs": [
    {
     "data": {
      "text/plain": [
       "'Colombia'"
      ]
     },
     "execution_count": 8,
     "metadata": {},
     "output_type": "execute_result"
    }
   ],
   "source": [
    "countries[0]"
   ]
  },
  {
   "cell_type": "code",
   "execution_count": 9,
   "id": "b2d32e44",
   "metadata": {},
   "outputs": [
    {
     "data": {
      "text/plain": [
       "'Venezuela'"
      ]
     },
     "execution_count": 9,
     "metadata": {},
     "output_type": "execute_result"
    }
   ],
   "source": [
    "countries[2]"
   ]
  },
  {
   "cell_type": "code",
   "execution_count": 10,
   "id": "c9bc7732",
   "metadata": {},
   "outputs": [
    {
     "data": {
      "text/plain": [
       "'Venezuela'"
      ]
     },
     "execution_count": 10,
     "metadata": {},
     "output_type": "execute_result"
    }
   ],
   "source": [
    "countries[-1]"
   ]
  },
  {
   "cell_type": "code",
   "execution_count": 11,
   "id": "2d1ebb5d",
   "metadata": {},
   "outputs": [
    {
     "data": {
      "text/plain": [
       "['Colombia', 'España', 'Venezuela']"
      ]
     },
     "execution_count": 11,
     "metadata": {},
     "output_type": "execute_result"
    }
   ],
   "source": [
    "countries"
   ]
  },
  {
   "cell_type": "code",
   "execution_count": 12,
   "id": "882e5886",
   "metadata": {},
   "outputs": [],
   "source": [
    "countries.append(\"Bolivia\")"
   ]
  },
  {
   "cell_type": "code",
   "execution_count": 13,
   "id": "8fd02ec4",
   "metadata": {},
   "outputs": [
    {
     "data": {
      "text/plain": [
       "['Colombia', 'España', 'Venezuela', 'Bolivia']"
      ]
     },
     "execution_count": 13,
     "metadata": {},
     "output_type": "execute_result"
    }
   ],
   "source": [
    "countries"
   ]
  },
  {
   "cell_type": "code",
   "execution_count": 14,
   "id": "afbd8f57",
   "metadata": {},
   "outputs": [],
   "source": [
    "countries.insert(0,\"Argentina\")"
   ]
  },
  {
   "cell_type": "code",
   "execution_count": 15,
   "id": "0702eda4",
   "metadata": {},
   "outputs": [
    {
     "data": {
      "text/plain": [
       "['Argentina', 'Colombia', 'España', 'Venezuela', 'Bolivia']"
      ]
     },
     "execution_count": 15,
     "metadata": {},
     "output_type": "execute_result"
    }
   ],
   "source": [
    "countries"
   ]
  },
  {
   "cell_type": "code",
   "execution_count": 16,
   "id": "d5e36f81",
   "metadata": {},
   "outputs": [],
   "source": [
    "countries2 = [\"Brasil\", \"Uruguay\", \"Qatar\", \"Francia\"]"
   ]
  },
  {
   "cell_type": "code",
   "execution_count": 17,
   "id": "81ded292",
   "metadata": {},
   "outputs": [
    {
     "data": {
      "text/plain": [
       "['Brasil', 'Uruguay', 'Qatar', 'Francia']"
      ]
     },
     "execution_count": 17,
     "metadata": {},
     "output_type": "execute_result"
    }
   ],
   "source": [
    "countries2\n"
   ]
  },
  {
   "cell_type": "code",
   "execution_count": 18,
   "id": "37d55bfb",
   "metadata": {},
   "outputs": [
    {
     "data": {
      "text/plain": [
       "['Argentina',\n",
       " 'Colombia',\n",
       " 'España',\n",
       " 'Venezuela',\n",
       " 'Bolivia',\n",
       " 'Brasil',\n",
       " 'Uruguay',\n",
       " 'Qatar',\n",
       " 'Francia']"
      ]
     },
     "execution_count": 18,
     "metadata": {},
     "output_type": "execute_result"
    }
   ],
   "source": [
    "countries + countries2"
   ]
  },
  {
   "cell_type": "code",
   "execution_count": 19,
   "id": "2669ccfe",
   "metadata": {},
   "outputs": [],
   "source": [
    "nueva_lista = [countries, countries2]"
   ]
  },
  {
   "cell_type": "code",
   "execution_count": 20,
   "id": "2c3455d7",
   "metadata": {},
   "outputs": [
    {
     "data": {
      "text/plain": [
       "[['Argentina', 'Colombia', 'España', 'Venezuela', 'Bolivia'],\n",
       " ['Brasil', 'Uruguay', 'Qatar', 'Francia']]"
      ]
     },
     "execution_count": 20,
     "metadata": {},
     "output_type": "execute_result"
    }
   ],
   "source": [
    "nueva_lista"
   ]
  },
  {
   "cell_type": "code",
   "execution_count": 21,
   "id": "b1c8bd48",
   "metadata": {},
   "outputs": [
    {
     "data": {
      "text/plain": [
       "['Argentina', 'Colombia', 'España', 'Venezuela', 'Bolivia']"
      ]
     },
     "execution_count": 21,
     "metadata": {},
     "output_type": "execute_result"
    }
   ],
   "source": [
    "countries"
   ]
  },
  {
   "cell_type": "code",
   "execution_count": 22,
   "id": "1eb77fc4",
   "metadata": {},
   "outputs": [],
   "source": [
    "countries.remove(\"España\")"
   ]
  },
  {
   "cell_type": "code",
   "execution_count": 23,
   "id": "c8dd2ca2",
   "metadata": {},
   "outputs": [
    {
     "data": {
      "text/plain": [
       "['Argentina', 'Colombia', 'Venezuela', 'Bolivia']"
      ]
     },
     "execution_count": 23,
     "metadata": {},
     "output_type": "execute_result"
    }
   ],
   "source": [
    "countries"
   ]
  },
  {
   "cell_type": "code",
   "execution_count": 27,
   "id": "52e25f15",
   "metadata": {},
   "outputs": [
    {
     "data": {
      "text/plain": [
       "'Argentina'"
      ]
     },
     "execution_count": 27,
     "metadata": {},
     "output_type": "execute_result"
    }
   ],
   "source": [
    "countries.pop(0)"
   ]
  },
  {
   "cell_type": "code",
   "execution_count": 28,
   "id": "8276337f",
   "metadata": {},
   "outputs": [
    {
     "data": {
      "text/plain": [
       "['Colombia', 'Venezuela', 'Bolivia']"
      ]
     },
     "execution_count": 28,
     "metadata": {},
     "output_type": "execute_result"
    }
   ],
   "source": [
    "countries"
   ]
  },
  {
   "cell_type": "code",
   "execution_count": 29,
   "id": "b934c585",
   "metadata": {},
   "outputs": [],
   "source": [
    "countries.insert(0,\"Argentina\")"
   ]
  },
  {
   "cell_type": "code",
   "execution_count": 30,
   "id": "59fd8f16",
   "metadata": {},
   "outputs": [
    {
     "data": {
      "text/plain": [
       "['Argentina', 'Colombia', 'Venezuela', 'Bolivia']"
      ]
     },
     "execution_count": 30,
     "metadata": {},
     "output_type": "execute_result"
    }
   ],
   "source": [
    "countries"
   ]
  },
  {
   "cell_type": "code",
   "execution_count": 31,
   "id": "0ca02926",
   "metadata": {},
   "outputs": [],
   "source": [
    "del countries[1]"
   ]
  },
  {
   "cell_type": "code",
   "execution_count": 32,
   "id": "52004fc1",
   "metadata": {},
   "outputs": [
    {
     "data": {
      "text/plain": [
       "['Argentina', 'Venezuela', 'Bolivia']"
      ]
     },
     "execution_count": 32,
     "metadata": {},
     "output_type": "execute_result"
    }
   ],
   "source": [
    "countries"
   ]
  },
  {
   "cell_type": "code",
   "execution_count": 33,
   "id": "fa570aef",
   "metadata": {},
   "outputs": [],
   "source": [
    "numeros = [1,7,19,63,27,28]"
   ]
  },
  {
   "cell_type": "code",
   "execution_count": 34,
   "id": "bbce63c7",
   "metadata": {},
   "outputs": [
    {
     "data": {
      "text/plain": [
       "[1, 7, 19, 63, 27, 28]"
      ]
     },
     "execution_count": 34,
     "metadata": {},
     "output_type": "execute_result"
    }
   ],
   "source": [
    "numeros"
   ]
  },
  {
   "cell_type": "code",
   "execution_count": 35,
   "id": "18fe57e6",
   "metadata": {},
   "outputs": [],
   "source": [
    "numeros.sort()"
   ]
  },
  {
   "cell_type": "code",
   "execution_count": 36,
   "id": "e6ee8467",
   "metadata": {},
   "outputs": [
    {
     "data": {
      "text/plain": [
       "[1, 7, 19, 27, 28, 63]"
      ]
     },
     "execution_count": 36,
     "metadata": {},
     "output_type": "execute_result"
    }
   ],
   "source": [
    "numeros"
   ]
  },
  {
   "cell_type": "code",
   "execution_count": 37,
   "id": "70019a54",
   "metadata": {},
   "outputs": [],
   "source": [
    "numeros.sort(reverse=True)"
   ]
  },
  {
   "cell_type": "code",
   "execution_count": 38,
   "id": "24df5e65",
   "metadata": {},
   "outputs": [
    {
     "data": {
      "text/plain": [
       "[63, 28, 27, 19, 7, 1]"
      ]
     },
     "execution_count": 38,
     "metadata": {},
     "output_type": "execute_result"
    }
   ],
   "source": [
    "numeros"
   ]
  },
  {
   "cell_type": "code",
   "execution_count": 39,
   "id": "83c58795",
   "metadata": {},
   "outputs": [],
   "source": [
    "numeros[0] = 33"
   ]
  },
  {
   "cell_type": "code",
   "execution_count": 40,
   "id": "db57bf67",
   "metadata": {},
   "outputs": [
    {
     "data": {
      "text/plain": [
       "[33, 28, 27, 19, 7, 1]"
      ]
     },
     "execution_count": 40,
     "metadata": {},
     "output_type": "execute_result"
    }
   ],
   "source": [
    "numeros"
   ]
  },
  {
   "cell_type": "code",
   "execution_count": 1,
   "id": "48bab438",
   "metadata": {},
   "outputs": [],
   "source": [
    "# Diccionarios"
   ]
  },
  {
   "cell_type": "code",
   "execution_count": 2,
   "id": "92477583",
   "metadata": {},
   "outputs": [],
   "source": [
    "dicc1 = {\"Nombre\": \"Jaime\", \"Edad\":27}"
   ]
  },
  {
   "cell_type": "code",
   "execution_count": 3,
   "id": "8cb12395",
   "metadata": {},
   "outputs": [
    {
     "data": {
      "text/plain": [
       "{'Nombre': 'Jaime', 'Edad': 27}"
      ]
     },
     "execution_count": 3,
     "metadata": {},
     "output_type": "execute_result"
    }
   ],
   "source": [
    "dicc1"
   ]
  },
  {
   "cell_type": "code",
   "execution_count": null,
   "id": "ee59ccec",
   "metadata": {},
   "outputs": [],
   "source": [
    "# Conocer las claves del diccionario"
   ]
  },
  {
   "cell_type": "code",
   "execution_count": 4,
   "id": "d71ee8fc",
   "metadata": {},
   "outputs": [
    {
     "data": {
      "text/plain": [
       "dict_keys(['Nombre', 'Edad'])"
      ]
     },
     "execution_count": 4,
     "metadata": {},
     "output_type": "execute_result"
    }
   ],
   "source": [
    "dicc1.keys()"
   ]
  },
  {
   "cell_type": "code",
   "execution_count": null,
   "id": "76ddc159",
   "metadata": {},
   "outputs": [],
   "source": [
    "# Conocer los valores del diccionario"
   ]
  },
  {
   "cell_type": "code",
   "execution_count": 6,
   "id": "39a9a28f",
   "metadata": {},
   "outputs": [
    {
     "data": {
      "text/plain": [
       "dict_values(['Jaime', 27])"
      ]
     },
     "execution_count": 6,
     "metadata": {},
     "output_type": "execute_result"
    }
   ],
   "source": [
    "dicc1.values()"
   ]
  },
  {
   "cell_type": "code",
   "execution_count": null,
   "id": "57d52e1a",
   "metadata": {},
   "outputs": [],
   "source": [
    "# Conocer la lista con los pares que contiene el diccionario"
   ]
  },
  {
   "cell_type": "code",
   "execution_count": 7,
   "id": "67fe7f98",
   "metadata": {},
   "outputs": [
    {
     "data": {
      "text/plain": [
       "dict_items([('Nombre', 'Jaime'), ('Edad', 27)])"
      ]
     },
     "execution_count": 7,
     "metadata": {},
     "output_type": "execute_result"
    }
   ],
   "source": [
    "dicc1.items()"
   ]
  },
  {
   "cell_type": "code",
   "execution_count": null,
   "id": "64b9c187",
   "metadata": {},
   "outputs": [],
   "source": [
    "# Agregar una nueva clave al diccionario con su respectivo valor"
   ]
  },
  {
   "cell_type": "code",
   "execution_count": 8,
   "id": "518ae2a3",
   "metadata": {},
   "outputs": [],
   "source": [
    "dicc1[\"Estatura\"] = 1.78"
   ]
  },
  {
   "cell_type": "code",
   "execution_count": 9,
   "id": "3ea289f9",
   "metadata": {},
   "outputs": [
    {
     "data": {
      "text/plain": [
       "{'Nombre': 'Jaime', 'Edad': 27, 'Estatura': 1.78}"
      ]
     },
     "execution_count": 9,
     "metadata": {},
     "output_type": "execute_result"
    }
   ],
   "source": [
    "dicc1"
   ]
  },
  {
   "cell_type": "code",
   "execution_count": null,
   "id": "f07cbeda",
   "metadata": {},
   "outputs": [],
   "source": [
    "# Segundo método para agregar claves al diccionario"
   ]
  },
  {
   "cell_type": "code",
   "execution_count": 10,
   "id": "30d0ce5d",
   "metadata": {},
   "outputs": [],
   "source": [
    "dicc1.update({\"Estatura\":1.82, \"Lenguages\": [\"Inglés\", \"Español\"]})"
   ]
  },
  {
   "cell_type": "code",
   "execution_count": 11,
   "id": "736f1b58",
   "metadata": {},
   "outputs": [
    {
     "data": {
      "text/plain": [
       "{'Nombre': 'Jaime',\n",
       " 'Edad': 27,\n",
       " 'Estatura': 1.82,\n",
       " 'Lenguages': ['Inglés', 'Español']}"
      ]
     },
     "execution_count": 11,
     "metadata": {},
     "output_type": "execute_result"
    }
   ],
   "source": [
    "dicc1"
   ]
  },
  {
   "cell_type": "code",
   "execution_count": null,
   "id": "3460d4cb",
   "metadata": {},
   "outputs": [],
   "source": [
    "# Condicional IF"
   ]
  },
  {
   "cell_type": "code",
   "execution_count": 16,
   "id": "a53227d4",
   "metadata": {},
   "outputs": [
    {
     "name": "stdout",
     "output_type": "stream",
     "text": [
      "Eres mayor de edad\n"
     ]
    }
   ],
   "source": [
    "Edad = 18\n",
    "\n",
    "if Edad>=18:\n",
    "    print(\"Eres mayor de edad\")\n",
    "else:\n",
    "    print(\"Eres menor de edad\")"
   ]
  },
  {
   "cell_type": "code",
   "execution_count": 17,
   "id": "ab1c1c6a",
   "metadata": {},
   "outputs": [],
   "source": [
    "# Introduciendo elif"
   ]
  },
  {
   "cell_type": "code",
   "execution_count": 25,
   "id": "c0328693",
   "metadata": {},
   "outputs": [
    {
     "name": "stdout",
     "output_type": "stream",
     "text": [
      "Introduzca su edad: 15\n",
      "Eres un adolescente\n"
     ]
    }
   ],
   "source": [
    "Edad = int(input(\"Introduzca su edad: \"))\n",
    "\n",
    "if Edad>=18:\n",
    "    print(\"Eres mayor de edad\")\n",
    "elif Edad>=13:\n",
    "    print(\"Eres un adolescente\")\n",
    "else:\n",
    "    print(\"Eres menor de edad\")"
   ]
  },
  {
   "cell_type": "code",
   "execution_count": 26,
   "id": "04f7922f",
   "metadata": {},
   "outputs": [],
   "source": [
    "# Combinación del condicional if con listas"
   ]
  },
  {
   "cell_type": "code",
   "execution_count": 27,
   "id": "808ae2bf",
   "metadata": {},
   "outputs": [],
   "source": [
    "countries = [\"Colombia\", \"España\", \"Venezuela\"]"
   ]
  },
  {
   "cell_type": "code",
   "execution_count": 33,
   "id": "2e6df4df",
   "metadata": {},
   "outputs": [
    {
     "name": "stdout",
     "output_type": "stream",
     "text": [
      "Introduzca el país: Venezuela\n",
      "Está en la lista\n"
     ]
    }
   ],
   "source": [
    "país = str(input(\"Introduzca el país: \"))\n",
    "if país in countries:\n",
    "    print(\"Está en la lista\")\n",
    "else:\n",
    "    print(\"No está en la lista\")"
   ]
  },
  {
   "cell_type": "code",
   "execution_count": null,
   "id": "13bd2e0e",
   "metadata": {},
   "outputs": [],
   "source": []
  }
 ],
 "metadata": {
  "kernelspec": {
   "display_name": "Python 3 (ipykernel)",
   "language": "python",
   "name": "python3"
  },
  "language_info": {
   "codemirror_mode": {
    "name": "ipython",
    "version": 3
   },
   "file_extension": ".py",
   "mimetype": "text/x-python",
   "name": "python",
   "nbconvert_exporter": "python",
   "pygments_lexer": "ipython3",
   "version": "3.9.13"
  }
 },
 "nbformat": 4,
 "nbformat_minor": 5
}
